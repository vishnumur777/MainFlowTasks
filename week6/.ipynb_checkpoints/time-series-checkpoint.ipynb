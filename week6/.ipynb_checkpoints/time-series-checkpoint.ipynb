{
 "cells": [
  {
   "cell_type": "code",
   "execution_count": 1,
   "id": "6b258968",
   "metadata": {},
   "outputs": [],
   "source": [
    "import pandas as pd"
   ]
  },
  {
   "cell_type": "code",
   "execution_count": 2,
   "id": "a937c12c",
   "metadata": {},
   "outputs": [],
   "source": [
    "df = pd.read_csv(\"disney_plus_titles.csv\")"
   ]
  },
  {
   "cell_type": "code",
   "execution_count": 3,
   "id": "879d7ff2",
   "metadata": {
    "scrolled": true
   },
   "outputs": [
    {
     "data": {
      "text/html": [
       "<div>\n",
       "<style scoped>\n",
       "    .dataframe tbody tr th:only-of-type {\n",
       "        vertical-align: middle;\n",
       "    }\n",
       "\n",
       "    .dataframe tbody tr th {\n",
       "        vertical-align: top;\n",
       "    }\n",
       "\n",
       "    .dataframe thead th {\n",
       "        text-align: right;\n",
       "    }\n",
       "</style>\n",
       "<table border=\"1\" class=\"dataframe\">\n",
       "  <thead>\n",
       "    <tr style=\"text-align: right;\">\n",
       "      <th></th>\n",
       "      <th>show_id</th>\n",
       "      <th>type</th>\n",
       "      <th>title</th>\n",
       "      <th>director</th>\n",
       "      <th>cast</th>\n",
       "      <th>country</th>\n",
       "      <th>date_added</th>\n",
       "      <th>release_year</th>\n",
       "      <th>rating</th>\n",
       "      <th>duration</th>\n",
       "      <th>listed_in</th>\n",
       "      <th>description</th>\n",
       "    </tr>\n",
       "  </thead>\n",
       "  <tbody>\n",
       "    <tr>\n",
       "      <th>0</th>\n",
       "      <td>s1</td>\n",
       "      <td>Movie</td>\n",
       "      <td>A Spark Story</td>\n",
       "      <td>Jason Sterman, Leanne Dare</td>\n",
       "      <td>Apthon Corbin, Louis Gonzales</td>\n",
       "      <td>NaN</td>\n",
       "      <td>September 24, 2021</td>\n",
       "      <td>2021</td>\n",
       "      <td>TV-PG</td>\n",
       "      <td>88 min</td>\n",
       "      <td>Documentary</td>\n",
       "      <td>Two Pixar filmmakers strive to bring their uni...</td>\n",
       "    </tr>\n",
       "    <tr>\n",
       "      <th>1</th>\n",
       "      <td>s2</td>\n",
       "      <td>Movie</td>\n",
       "      <td>Spooky Buddies</td>\n",
       "      <td>Robert Vince</td>\n",
       "      <td>Tucker Albrizzi, Diedrich Bader, Ameko Eks Mas...</td>\n",
       "      <td>United States, Canada</td>\n",
       "      <td>September 24, 2021</td>\n",
       "      <td>2011</td>\n",
       "      <td>G</td>\n",
       "      <td>93 min</td>\n",
       "      <td>Comedy, Fantasy, Kids</td>\n",
       "      <td>The puppies go on a spooky adventure through a...</td>\n",
       "    </tr>\n",
       "    <tr>\n",
       "      <th>2</th>\n",
       "      <td>s3</td>\n",
       "      <td>Movie</td>\n",
       "      <td>The Fault in Our Stars</td>\n",
       "      <td>Josh Boone</td>\n",
       "      <td>Shailene Woodley, Ansel Elgort, Laura Dern, Sa...</td>\n",
       "      <td>United States</td>\n",
       "      <td>September 24, 2021</td>\n",
       "      <td>2014</td>\n",
       "      <td>PG-13</td>\n",
       "      <td>127 min</td>\n",
       "      <td>Coming of Age, Drama, Romance</td>\n",
       "      <td>Hazel and Gus share a love that sweeps them on...</td>\n",
       "    </tr>\n",
       "    <tr>\n",
       "      <th>3</th>\n",
       "      <td>s4</td>\n",
       "      <td>TV Show</td>\n",
       "      <td>Dog: Impossible</td>\n",
       "      <td>NaN</td>\n",
       "      <td>Matt Beisner</td>\n",
       "      <td>United States</td>\n",
       "      <td>September 22, 2021</td>\n",
       "      <td>2019</td>\n",
       "      <td>TV-PG</td>\n",
       "      <td>2 Seasons</td>\n",
       "      <td>Animals &amp; Nature, Docuseries, Family</td>\n",
       "      <td>Matt Beisner uses unique approaches to modifyi...</td>\n",
       "    </tr>\n",
       "    <tr>\n",
       "      <th>4</th>\n",
       "      <td>s5</td>\n",
       "      <td>TV Show</td>\n",
       "      <td>Spidey And His Amazing Friends</td>\n",
       "      <td>NaN</td>\n",
       "      <td>Benjamin Valic, Lily Sanfelippo, Jakari Fraser...</td>\n",
       "      <td>United States</td>\n",
       "      <td>September 22, 2021</td>\n",
       "      <td>2021</td>\n",
       "      <td>TV-Y</td>\n",
       "      <td>1 Season</td>\n",
       "      <td>Action-Adventure, Animation, Kids</td>\n",
       "      <td>Spidey teams up with pals to become The Spidey...</td>\n",
       "    </tr>\n",
       "  </tbody>\n",
       "</table>\n",
       "</div>"
      ],
      "text/plain": [
       "  show_id     type                           title  \\\n",
       "0      s1    Movie                   A Spark Story   \n",
       "1      s2    Movie                  Spooky Buddies   \n",
       "2      s3    Movie          The Fault in Our Stars   \n",
       "3      s4  TV Show                 Dog: Impossible   \n",
       "4      s5  TV Show  Spidey And His Amazing Friends   \n",
       "\n",
       "                     director  \\\n",
       "0  Jason Sterman, Leanne Dare   \n",
       "1                Robert Vince   \n",
       "2                  Josh Boone   \n",
       "3                         NaN   \n",
       "4                         NaN   \n",
       "\n",
       "                                                cast                country  \\\n",
       "0                      Apthon Corbin, Louis Gonzales                    NaN   \n",
       "1  Tucker Albrizzi, Diedrich Bader, Ameko Eks Mas...  United States, Canada   \n",
       "2  Shailene Woodley, Ansel Elgort, Laura Dern, Sa...          United States   \n",
       "3                                       Matt Beisner          United States   \n",
       "4  Benjamin Valic, Lily Sanfelippo, Jakari Fraser...          United States   \n",
       "\n",
       "           date_added  release_year rating   duration  \\\n",
       "0  September 24, 2021          2021  TV-PG     88 min   \n",
       "1  September 24, 2021          2011      G     93 min   \n",
       "2  September 24, 2021          2014  PG-13    127 min   \n",
       "3  September 22, 2021          2019  TV-PG  2 Seasons   \n",
       "4  September 22, 2021          2021   TV-Y   1 Season   \n",
       "\n",
       "                              listed_in  \\\n",
       "0                           Documentary   \n",
       "1                 Comedy, Fantasy, Kids   \n",
       "2         Coming of Age, Drama, Romance   \n",
       "3  Animals & Nature, Docuseries, Family   \n",
       "4     Action-Adventure, Animation, Kids   \n",
       "\n",
       "                                         description  \n",
       "0  Two Pixar filmmakers strive to bring their uni...  \n",
       "1  The puppies go on a spooky adventure through a...  \n",
       "2  Hazel and Gus share a love that sweeps them on...  \n",
       "3  Matt Beisner uses unique approaches to modifyi...  \n",
       "4  Spidey teams up with pals to become The Spidey...  "
      ]
     },
     "execution_count": 3,
     "metadata": {},
     "output_type": "execute_result"
    }
   ],
   "source": [
    "df.head()"
   ]
  },
  {
   "cell_type": "code",
   "execution_count": 4,
   "id": "69fe506f",
   "metadata": {},
   "outputs": [
    {
     "data": {
      "text/plain": [
       "(1368, 12)"
      ]
     },
     "execution_count": 4,
     "metadata": {},
     "output_type": "execute_result"
    }
   ],
   "source": [
    "df.shape"
   ]
  },
  {
   "cell_type": "code",
   "execution_count": 5,
   "id": "7c5fcb5f",
   "metadata": {},
   "outputs": [
    {
     "name": "stdout",
     "output_type": "stream",
     "text": [
      "<class 'pandas.core.frame.DataFrame'>\n",
      "RangeIndex: 1368 entries, 0 to 1367\n",
      "Data columns (total 12 columns):\n",
      " #   Column        Non-Null Count  Dtype \n",
      "---  ------        --------------  ----- \n",
      " 0   show_id       1368 non-null   object\n",
      " 1   type          1368 non-null   object\n",
      " 2   title         1368 non-null   object\n",
      " 3   director      928 non-null    object\n",
      " 4   cast          1194 non-null   object\n",
      " 5   country       1193 non-null   object\n",
      " 6   date_added    1365 non-null   object\n",
      " 7   release_year  1368 non-null   int64 \n",
      " 8   rating        1366 non-null   object\n",
      " 9   duration      1368 non-null   object\n",
      " 10  listed_in     1368 non-null   object\n",
      " 11  description   1368 non-null   object\n",
      "dtypes: int64(1), object(11)\n",
      "memory usage: 128.4+ KB\n"
     ]
    }
   ],
   "source": [
    "df.info()"
   ]
  },
  {
   "cell_type": "code",
   "execution_count": 6,
   "id": "d96325bd",
   "metadata": {
    "scrolled": true
   },
   "outputs": [
    {
     "data": {
      "text/plain": [
       "Index(['show_id', 'type', 'title', 'director', 'cast', 'country', 'date_added',\n",
       "       'release_year', 'rating', 'duration', 'listed_in', 'description'],\n",
       "      dtype='object')"
      ]
     },
     "execution_count": 6,
     "metadata": {},
     "output_type": "execute_result"
    }
   ],
   "source": [
    "df.columns"
   ]
  },
  {
   "cell_type": "code",
   "execution_count": 7,
   "id": "b0b90ce3",
   "metadata": {},
   "outputs": [],
   "source": [
    "import pandas as pd\n",
    "import numpy as np\n",
    "import matplotlib.pyplot as plt\n",
    "import seaborn as sns\n",
    "from statsmodels.tsa.seasonal import seasonal_decompose\n",
    "from statsmodels.tsa.holtwinters import ExponentialSmoothing"
   ]
  },
  {
   "cell_type": "code",
   "execution_count": 8,
   "id": "79517944",
   "metadata": {},
   "outputs": [],
   "source": [
    "df['date_added'] = pd.to_datetime(df['date_added'])\n",
    "df.set_index('date_added', inplace=True)"
   ]
  },
  {
   "cell_type": "code",
   "execution_count": 9,
   "id": "add3417a",
   "metadata": {},
   "outputs": [],
   "source": [
    "monthly_data = df['show_id'].resample('M').count()"
   ]
  },
  {
   "cell_type": "code",
   "execution_count": 10,
   "id": "151181bd",
   "metadata": {},
   "outputs": [
    {
     "data": {
      "image/png": "[encoded data removed]",
      "text/plain": [
       "<Figure size 640x480 with 4 Axes>"
      ]
     },
     "metadata": {},
     "output_type": "display_data"
    }
   ],
   "source": [
    "decomposition = seasonal_decompose(monthly_data, model='additive')\n",
    "decomposition.plot()\n",
    "plt.show()"
   ]
  },
  {
   "cell_type": "code",
   "execution_count": 11,
   "id": "25ff7484",
   "metadata": {
    "scrolled": true
   },
   "outputs": [
    {
     "name": "stderr",
     "output_type": "stream",
     "text": [
      "/home/varun/.local/lib/python3.11/site-packages/statsmodels/tsa/base/tsa_model.py:473: ValueWarning: No frequency information was provided, so inferred frequency M will be used.\n",
      "  self._init_dates(dates, freq)\n"
     ]
    }
   ],
   "source": [
    "model = ExponentialSmoothing(monthly_data, seasonal='add', seasonal_periods=12).fit()\n",
    "forecast = model.forecast(12)"
   ]
  },
  {
   "cell_type": "code",
   "execution_count": 12,
   "id": "0285358a",
   "metadata": {},
   "outputs": [
    {
     "data": {
      "image/png": "[encoded data removed]",
      "text/plain": [
       "<Figure size 1000x600 with 1 Axes>"
      ]
     },
     "metadata": {},
     "output_type": "display_data"
    }
   ],
   "source": [
    "plt.figure(figsize=(10, 6))\n",
    "plt.plot(monthly_data, label='Original')\n",
    "plt.plot(forecast, label='Forecast', linestyle='--')\n",
    "plt.legend()\n",
    "plt.show()"
   ]
  },
  {
   "cell_type": "code",
   "execution_count": 13,
   "id": "4fc4ddcd",
   "metadata": {},
   "outputs": [
    {
     "name": "stderr",
     "output_type": "stream",
     "text": [
      "[nltk_data] Downloading package vader_lexicon to\n",
      "[nltk_data]     /home/varun/nltk_data...\n",
      "[nltk_data]   Package vader_lexicon is already up-to-date!\n"
     ]
    },
    {
     "data": {
      "text/html": [
       "<div>\n",
       "<style scoped>\n",
       "    .dataframe tbody tr th:only-of-type {\n",
       "        vertical-align: middle;\n",
       "    }\n",
       "\n",
       "    .dataframe tbody tr th {\n",
       "        vertical-align: top;\n",
       "    }\n",
       "\n",
       "    .dataframe thead th {\n",
       "        text-align: right;\n",
       "    }\n",
       "</style>\n",
       "<table border=\"1\" class=\"dataframe\">\n",
       "  <thead>\n",
       "    <tr style=\"text-align: right;\">\n",
       "      <th></th>\n",
       "      <th>description</th>\n",
       "      <th>sentiment_score</th>\n",
       "    </tr>\n",
       "    <tr>\n",
       "      <th>date_added</th>\n",
       "      <th></th>\n",
       "      <th></th>\n",
       "    </tr>\n",
       "  </thead>\n",
       "  <tbody>\n",
       "    <tr>\n",
       "      <th>2021-09-24</th>\n",
       "      <td>Two Pixar filmmakers strive to bring their uni...</td>\n",
       "      <td>0.2263</td>\n",
       "    </tr>\n",
       "    <tr>\n",
       "      <th>2021-09-24</th>\n",
       "      <td>The puppies go on a spooky adventure through a...</td>\n",
       "      <td>-0.2023</td>\n",
       "    </tr>\n",
       "    <tr>\n",
       "      <th>2021-09-24</th>\n",
       "      <td>Hazel and Gus share a love that sweeps them on...</td>\n",
       "      <td>0.7506</td>\n",
       "    </tr>\n",
       "    <tr>\n",
       "      <th>2021-09-22</th>\n",
       "      <td>Matt Beisner uses unique approaches to modifyi...</td>\n",
       "      <td>0.0000</td>\n",
       "    </tr>\n",
       "    <tr>\n",
       "      <th>2021-09-22</th>\n",
       "      <td>Spidey teams up with pals to become The Spidey...</td>\n",
       "      <td>0.0000</td>\n",
       "    </tr>\n",
       "    <tr>\n",
       "      <th>...</th>\n",
       "      <td>...</td>\n",
       "      <td>...</td>\n",
       "    </tr>\n",
       "    <tr>\n",
       "      <th>2019-10-01</th>\n",
       "      <td>Merlin trains a young orphan who's destined to...</td>\n",
       "      <td>0.0000</td>\n",
       "    </tr>\n",
       "    <tr>\n",
       "      <th>2019-10-01</th>\n",
       "      <td>A strong-willed family struggles to establish ...</td>\n",
       "      <td>-0.3612</td>\n",
       "    </tr>\n",
       "    <tr>\n",
       "      <th>NaT</th>\n",
       "      <td>Welcome to Kirby's world! It's rude and sketchy.</td>\n",
       "      <td>0.0000</td>\n",
       "    </tr>\n",
       "    <tr>\n",
       "      <th>NaT</th>\n",
       "      <td>Ryan discovers his ability to control a giant ...</td>\n",
       "      <td>0.3182</td>\n",
       "    </tr>\n",
       "    <tr>\n",
       "      <th>NaT</th>\n",
       "      <td>Rock out with the Imagination Movers, Disney J...</td>\n",
       "      <td>0.5093</td>\n",
       "    </tr>\n",
       "  </tbody>\n",
       "</table>\n",
       "<p>1368 rows × 2 columns</p>\n",
       "</div>"
      ],
      "text/plain": [
       "                                                  description  sentiment_score\n",
       "date_added                                                                    \n",
       "2021-09-24  Two Pixar filmmakers strive to bring their uni...           0.2263\n",
       "2021-09-24  The puppies go on a spooky adventure through a...          -0.2023\n",
       "2021-09-24  Hazel and Gus share a love that sweeps them on...           0.7506\n",
       "2021-09-22  Matt Beisner uses unique approaches to modifyi...           0.0000\n",
       "2021-09-22  Spidey teams up with pals to become The Spidey...           0.0000\n",
       "...                                                       ...              ...\n",
       "2019-10-01  Merlin trains a young orphan who's destined to...           0.0000\n",
       "2019-10-01  A strong-willed family struggles to establish ...          -0.3612\n",
       "NaT          Welcome to Kirby's world! It's rude and sketchy.           0.0000\n",
       "NaT         Ryan discovers his ability to control a giant ...           0.3182\n",
       "NaT         Rock out with the Imagination Movers, Disney J...           0.5093\n",
       "\n",
       "[1368 rows x 2 columns]"
      ]
     },
     "execution_count": 13,
     "metadata": {},
     "output_type": "execute_result"
    }
   ],
   "source": [
    "import nltk\n",
    "from nltk.sentiment.vader import SentimentIntensityAnalyzer\n",
    "\n",
    "# Download VADER lexicon\n",
    "nltk.download('vader_lexicon')\n",
    "\n",
    "# Initialize the sentiment analyzer\n",
    "sid = SentimentIntensityAnalyzer()\n",
    "\n",
    "# Define a function to get sentiment scores\n",
    "def get_sentiment(description):\n",
    "    return sid.polarity_scores(description)['compound']\n",
    "\n",
    "# Apply the function to the 'description' column\n",
    "df['sentiment_score'] = df['description'].apply(get_sentiment)\n",
    "\n",
    "# Display the sentiment scores\n",
    "df[['description', 'sentiment_score']]"
   ]
  },
  {
   "cell_type": "code",
   "execution_count": 14,
   "id": "28f1da05",
   "metadata": {},
   "outputs": [],
   "source": [
    "from sklearn.cluster import KMeans\n",
    "from sklearn.preprocessing import LabelEncoder, MinMaxScaler\n",
    "import pandas as pd"
   ]
  },
  {
   "cell_type": "code",
   "execution_count": 41,
   "id": "09712346",
   "metadata": {},
   "outputs": [
    {
     "name": "stderr",
     "output_type": "stream",
     "text": [
      "/tmp/ipykernel_35146/965736832.py:2: SettingWithCopyWarning: \n",
      "A value is trying to be set on a copy of a slice from a DataFrame.\n",
      "Try using .loc[row_indexer,col_indexer] = value instead\n",
      "\n",
      "See the caveats in the documentation: https://pandas.pydata.org/pandas-docs/stable/user_guide/indexing.html#returning-a-view-versus-a-copy\n",
      "  df1['duration'] = df1['duration'].str.replace(' min', '').astype(float)\n"
     ]
    }
   ],
   "source": [
    "df1 = df[df['duration'].str.endswith('min')]\n",
    "df1['duration'] = df1['duration'].str.replace(' min', '').astype(float)\n",
    "df_cluster = df1[['release_year', 'rating', 'duration']]"
   ]
  },
  {
   "cell_type": "code",
   "execution_count": 42,
   "id": "d97263e9",
   "metadata": {},
   "outputs": [
    {
     "data": {
      "text/html": [
       "<div>\n",
       "<style scoped>\n",
       "    .dataframe tbody tr th:only-of-type {\n",
       "        vertical-align: middle;\n",
       "    }\n",
       "\n",
       "    .dataframe tbody tr th {\n",
       "        vertical-align: top;\n",
       "    }\n",
       "\n",
       "    .dataframe thead th {\n",
       "        text-align: right;\n",
       "    }\n",
       "</style>\n",
       "<table border=\"1\" class=\"dataframe\">\n",
       "  <thead>\n",
       "    <tr style=\"text-align: right;\">\n",
       "      <th></th>\n",
       "      <th>release_year</th>\n",
       "      <th>rating</th>\n",
       "      <th>duration</th>\n",
       "    </tr>\n",
       "    <tr>\n",
       "      <th>date_added</th>\n",
       "      <th></th>\n",
       "      <th></th>\n",
       "      <th></th>\n",
       "    </tr>\n",
       "  </thead>\n",
       "  <tbody>\n",
       "    <tr>\n",
       "      <th>2021-09-24</th>\n",
       "      <td>2021</td>\n",
       "      <td>TV-PG</td>\n",
       "      <td>88.0</td>\n",
       "    </tr>\n",
       "    <tr>\n",
       "      <th>2021-09-24</th>\n",
       "      <td>2011</td>\n",
       "      <td>G</td>\n",
       "      <td>93.0</td>\n",
       "    </tr>\n",
       "    <tr>\n",
       "      <th>2021-09-24</th>\n",
       "      <td>2014</td>\n",
       "      <td>PG-13</td>\n",
       "      <td>127.0</td>\n",
       "    </tr>\n",
       "    <tr>\n",
       "      <th>2021-09-17</th>\n",
       "      <td>2009</td>\n",
       "      <td>PG</td>\n",
       "      <td>106.0</td>\n",
       "    </tr>\n",
       "    <tr>\n",
       "      <th>2021-09-17</th>\n",
       "      <td>2021</td>\n",
       "      <td>TV-G</td>\n",
       "      <td>22.0</td>\n",
       "    </tr>\n",
       "    <tr>\n",
       "      <th>...</th>\n",
       "      <td>...</td>\n",
       "      <td>...</td>\n",
       "      <td>...</td>\n",
       "    </tr>\n",
       "    <tr>\n",
       "      <th>2019-10-01</th>\n",
       "      <td>2001</td>\n",
       "      <td>G</td>\n",
       "      <td>73.0</td>\n",
       "    </tr>\n",
       "    <tr>\n",
       "      <th>2019-10-01</th>\n",
       "      <td>1978</td>\n",
       "      <td>G</td>\n",
       "      <td>104.0</td>\n",
       "    </tr>\n",
       "    <tr>\n",
       "      <th>2019-10-01</th>\n",
       "      <td>1986</td>\n",
       "      <td>G</td>\n",
       "      <td>75.0</td>\n",
       "    </tr>\n",
       "    <tr>\n",
       "      <th>2019-10-01</th>\n",
       "      <td>1963</td>\n",
       "      <td>G</td>\n",
       "      <td>80.0</td>\n",
       "    </tr>\n",
       "    <tr>\n",
       "      <th>2019-10-01</th>\n",
       "      <td>1965</td>\n",
       "      <td>PG</td>\n",
       "      <td>132.0</td>\n",
       "    </tr>\n",
       "  </tbody>\n",
       "</table>\n",
       "<p>991 rows × 3 columns</p>\n",
       "</div>"
      ],
      "text/plain": [
       "            release_year rating  duration\n",
       "date_added                               \n",
       "2021-09-24          2021  TV-PG      88.0\n",
       "2021-09-24          2011      G      93.0\n",
       "2021-09-24          2014  PG-13     127.0\n",
       "2021-09-17          2009     PG     106.0\n",
       "2021-09-17          2021   TV-G      22.0\n",
       "...                  ...    ...       ...\n",
       "2019-10-01          2001      G      73.0\n",
       "2019-10-01          1978      G     104.0\n",
       "2019-10-01          1986      G      75.0\n",
       "2019-10-01          1963      G      80.0\n",
       "2019-10-01          1965     PG     132.0\n",
       "\n",
       "[991 rows x 3 columns]"
      ]
     },
     "execution_count": 42,
     "metadata": {},
     "output_type": "execute_result"
    }
   ],
   "source": [
    "df_cluster"
   ]
  },
  {
   "cell_type": "code",
   "execution_count": 43,
   "id": "3cdf2e05",
   "metadata": {},
   "outputs": [],
   "source": [
    "df_cluster = df_cluster.dropna()"
   ]
  },
  {
   "cell_type": "code",
   "execution_count": 44,
   "id": "21439a20",
   "metadata": {},
   "outputs": [
    {
     "name": "stderr",
     "output_type": "stream",
     "text": [
      "/tmp/ipykernel_35146/4064115029.py:2: SettingWithCopyWarning: \n",
      "A value is trying to be set on a copy of a slice from a DataFrame.\n",
      "Try using .loc[row_indexer,col_indexer] = value instead\n",
      "\n",
      "See the caveats in the documentation: https://pandas.pydata.org/pandas-docs/stable/user_guide/indexing.html#returning-a-view-versus-a-copy\n",
      "  df_cluster['rating'] = le.fit_transform(df_cluster['rating'])\n"
     ]
    }
   ],
   "source": [
    "le = LabelEncoder()\n",
    "df_cluster['rating'] = le.fit_transform(df_cluster['rating'])"
   ]
  },
  {
   "cell_type": "code",
   "execution_count": 45,
   "id": "a0e95055",
   "metadata": {},
   "outputs": [],
   "source": [
    "scaler = MinMaxScaler()\n",
    "df_cluster_scaled = scaler.fit_transform(df_cluster)"
   ]
  },
  {
   "cell_type": "code",
   "execution_count": 46,
   "id": "b0d785c8",
   "metadata": {},
   "outputs": [
    {
     "name": "stderr",
     "output_type": "stream",
     "text": [
      "/home/varun/.local/lib/python3.11/site-packages/sklearn/cluster/_kmeans.py:1412: FutureWarning: The default value of `n_init` will change from 10 to 'auto' in 1.4. Set the value of `n_init` explicitly to suppress the warning\n",
      "  super()._check_params_vs_input(X, default_n_init=10)\n",
      "/tmp/ipykernel_35146/4127577796.py:2: SettingWithCopyWarning: \n",
      "A value is trying to be set on a copy of a slice from a DataFrame.\n",
      "Try using .loc[row_indexer,col_indexer] = value instead\n",
      "\n",
      "See the caveats in the documentation: https://pandas.pydata.org/pandas-docs/stable/user_guide/indexing.html#returning-a-view-versus-a-copy\n",
      "  df_cluster['cluster'] = kmeans.fit_predict(df_cluster_scaled)\n"
     ]
    }
   ],
   "source": [
    "kmeans = KMeans(n_clusters=3, random_state=0)\n",
    "df_cluster['cluster'] = kmeans.fit_predict(df_cluster_scaled)"
   ]
  },
  {
   "cell_type": "code",
   "execution_count": 47,
   "id": "f1f56765",
   "metadata": {
    "scrolled": true
   },
   "outputs": [
    {
     "name": "stdout",
     "output_type": "stream",
     "text": [
      "[[0.89827713 0.56463068 0.31915495]\n",
      " [0.78459471 0.08557692 0.50312367]\n",
      " [0.20430108 0.57309322 0.12650997]]\n"
     ]
    }
   ],
   "source": [
    "print(kmeans.cluster_centers_)"
   ]
  }
 ],
 "metadata": {
  "kernelspec": {
   "display_name": "Python 3 (ipykernel)",
   "language": "python",
   "name": "python3"
  },
  "language_info": {
   "codemirror_mode": {
    "name": "ipython",
    "version": 3
   },
   "file_extension": ".py",
   "mimetype": "text/x-python",
   "name": "python",
   "nbconvert_exporter": "python",
   "pygments_lexer": "ipython3",
   "version": "3.11.3"
  }
 },
 "nbformat": 4,
 "nbformat_minor": 5
}
